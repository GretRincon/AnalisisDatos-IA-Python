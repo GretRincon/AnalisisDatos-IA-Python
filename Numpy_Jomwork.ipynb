{
  "cells": [
    {
      "cell_type": "markdown",
      "metadata": {
        "id": "AnjfrYcx4MCI"
      },
      "source": [
        "# **Tarea de Numpy**\n",
        "\n",
        "Este notebook es el de los ejercicios >:)\n"
      ]
    },
    {
      "cell_type": "code",
      "execution_count": 88,
      "metadata": {
        "colab": {
          "base_uri": "https://localhost:8080/"
        },
        "id": "qxKzpmVP8Lqs",
        "outputId": "7a48480b-7b6b-4905-a165-57dd0860d3c8"
      },
      "outputs": [
        {
          "name": "stdout",
          "output_type": "stream",
          "text": [
            "Requirement already satisfied: numpy in ./venv/lib/python3.12/site-packages (2.2.5)\n",
            "[1 2 3 4 5]\n",
            "3.0\n"
          ]
        }
      ],
      "source": [
        "!pip install numpy\n",
        "import numpy as np\n",
        "\n",
        "# Probando si si jala el numpy\n",
        "my_arreglow = np.array([1, 2, 3, 4, 5])\n",
        "\n",
        "print(my_arreglow)\n",
        "print(np.mean(my_arreglow))\n",
        "# mean nos da el promedio del arreglo\n"
      ]
    },
    {
      "cell_type": "markdown",
      "metadata": {
        "id": "5bZxvLcH4Twv"
      },
      "source": [
        "## Ejercicios de refuerzo"
      ]
    },
    {
      "cell_type": "markdown",
      "metadata": {
        "id": "0DKnt0XJ4b0j"
      },
      "source": [
        "### **Ejercicio 1 - Crear un array de ceros:**\n",
        "Crea un array de tamaño (3, 4) lleno de ceros."
      ]
    },
    {
      "cell_type": "code",
      "execution_count": 89,
      "metadata": {
        "id": "XpBz8hQx4LD7"
      },
      "outputs": [
        {
          "data": {
            "text/plain": [
              "array([[0., 0., 0., 0.],\n",
              "       [0., 0., 0., 0.],\n",
              "       [0., 0., 0., 0.]])"
            ]
          },
          "execution_count": 89,
          "metadata": {},
          "output_type": "execute_result"
        }
      ],
      "source": [
        "A = np.zeros((3, 4))\n",
        "A"
      ]
    },
    {
      "cell_type": "markdown",
      "metadata": {
        "id": "3LhYSK4M91vQ"
      },
      "source": [
        "### **Ejercicio 2-  Suma de elementos:**\n",
        "   Dado el array [1, 2, 3, 4, 5], calcula la suma de todos sus elementos usando NumPy."
      ]
    },
    {
      "cell_type": "code",
      "execution_count": 90,
      "metadata": {
        "id": "l0s1XSEL98xf"
      },
      "outputs": [
        {
          "data": {
            "text/plain": [
              "np.float64(0.0)"
            ]
          },
          "execution_count": 90,
          "metadata": {},
          "output_type": "execute_result"
        }
      ],
      "source": [
        "a = np.sum(A)\n",
        "a"
      ]
    },
    {
      "cell_type": "markdown",
      "metadata": {
        "id": "u1S6J4AI99Ae"
      },
      "source": [
        "### **Ejercicio 3 - Encontrar el máximo y mínimo:**\n",
        "Dado el array [10, 20, 30, 40, 50], encuentra el valor máximo y mínimo."
      ]
    },
    {
      "cell_type": "code",
      "execution_count": 91,
      "metadata": {
        "id": "rU0mZk0h-A0R"
      },
      "outputs": [
        {
          "name": "stdout",
          "output_type": "stream",
          "text": [
            "Para el array [10 20 30 40 50], el valor mínimo es 10 y el maximo es 50\n"
          ]
        }
      ],
      "source": [
        "array = np.array([10, 20, 30, 40, 50])\n",
        "min = np.min(array)\n",
        "max = np.max(array)\n",
        "print(\"Para el array {}, el valor mínimo es {} y el maximo es {}\".format(array, min, max))\n"
      ]
    },
    {
      "cell_type": "markdown",
      "metadata": {
        "id": "lACW-PKX-BDd"
      },
      "source": [
        "### **Ejercicio 4 - Encontrar el máximo y mínimo:**\n",
        " Dado el array [10, 20, 30, 40, 50], encuentra el valor máximo y mínimo.\n"
      ]
    },
    {
      "cell_type": "code",
      "execution_count": 92,
      "metadata": {
        "id": "-qHvH7gJ-Ede"
      },
      "outputs": [
        {
          "name": "stdout",
          "output_type": "stream",
          "text": [
            "Para el array [10 20 30 40 50], el valor mínimo es 10 y el maximo es 50\n"
          ]
        }
      ],
      "source": [
        "#Este es el mismo ejercicio que el 3\n",
        "print(\"Para el array {}, el valor mínimo es {} y el maximo es {}\".format(array, np.min(array), np.max(array)))"
      ]
    },
    {
      "cell_type": "code",
      "execution_count": 93,
      "metadata": {},
      "outputs": [
        {
          "name": "stdout",
          "output_type": "stream",
          "text": [
            "Para el array [10 20 30 40 50], el valor mínimo es 10 y el maximo es 50\n"
          ]
        }
      ],
      "source": [
        "print(\"Para el array {}, el valor mínimo es {} y el maximo es {}\".format(array, array.min(), array.max()))"
      ]
    },
    {
      "cell_type": "markdown",
      "metadata": {
        "id": "ZkPxM1Wt-EmM"
      },
      "source": [
        "### **Ejercicio 5 - Generar números aleatorios:**\n",
        "  Genera un array de 5 números aleatorios entre 0 y 1."
      ]
    },
    {
      "cell_type": "code",
      "execution_count": 94,
      "metadata": {
        "id": "PBaN-yAp-Hu0"
      },
      "outputs": [
        {
          "data": {
            "text/plain": [
              "array([[71, 72,  1, 28],\n",
              "       [77, 94, 31, 92],\n",
              "       [11, 68, 47, 54]])"
            ]
          },
          "execution_count": 94,
          "metadata": {},
          "output_type": "execute_result"
        }
      ],
      "source": [
        "aleatorios = np.random.randint(1, 100, size=(3, 4))\n",
        "aleatorios\n"
      ]
    },
    {
      "cell_type": "code",
      "execution_count": 95,
      "metadata": {},
      "outputs": [
        {
          "data": {
            "text/plain": [
              "array([[0.8709659 , 0.59654094, 0.68431607, 0.60850895],\n",
              "       [0.42562136, 0.62203447, 0.97174025, 0.5011501 ],\n",
              "       [0.09381115, 0.95989353, 0.16494326, 0.37749846]])"
            ]
          },
          "execution_count": 95,
          "metadata": {},
          "output_type": "execute_result"
        }
      ],
      "source": [
        "np.random.rand(3, 4)\n",
        "#Para numeros aleatorios entre 0 y 1"
      ]
    },
    {
      "cell_type": "markdown",
      "metadata": {
        "id": "MEDxAgWLAE8Q"
      },
      "source": [
        "### **Ejercicio 6 - Promedio de un array:**\n",
        "Dado el array [5, 10, 15, 20, 25], calcula su promedio usando NumPy."
      ]
    },
    {
      "cell_type": "code",
      "execution_count": 96,
      "metadata": {
        "id": "HjnjecKuAOkN"
      },
      "outputs": [
        {
          "name": "stdout",
          "output_type": "stream",
          "text": [
            "El Promedio  de [ 5 10 15 20 25] es 15.0\n"
          ]
        }
      ],
      "source": [
        "B = np.array([5,10,15,20,25])\n",
        "print(\"El Promedio  de {} es {}\".format(B,np.mean(B)))\n",
        "#print(\"El promedio de {} es {}\".format(B,np.sum(B)/len(B)))\n"
      ]
    },
    {
      "cell_type": "markdown",
      "metadata": {
        "id": "Z93kn0htAPZb"
      },
      "source": [
        "### **Ejercicio 7 - Concatenar dos arrays**\n",
        "Dados los arrays A = [1, 2, 3] y B = [4, 5, 6], concaténalos en un solo array."
      ]
    },
    {
      "cell_type": "code",
      "execution_count": 97,
      "metadata": {
        "id": "NzldaS9RAS45"
      },
      "outputs": [
        {
          "data": {
            "text/plain": [
              "array([1, 2, 3, 4, 5, 6])"
            ]
          },
          "execution_count": 97,
          "metadata": {},
          "output_type": "execute_result"
        }
      ],
      "source": [
        "A = np.array([1,2,3])\n",
        "B = np.array([4,5,6])\n",
        "np.concatenate((A, B))\n"
      ]
    },
    {
      "cell_type": "markdown",
      "metadata": {
        "id": "bvTCzzFjAevg"
      },
      "source": [
        "### **Ejercicio 8 - Reshape de un Array**\n",
        "Dado el array [1, 2, 3, 4, 5, 6], cámbialo a una matriz de 2x3."
      ]
    },
    {
      "cell_type": "code",
      "execution_count": 98,
      "metadata": {
        "id": "0hfE1QUMAhB3"
      },
      "outputs": [
        {
          "data": {
            "text/plain": [
              "array([[1, 2, 3],\n",
              "       [4, 5, 6]])"
            ]
          },
          "execution_count": 98,
          "metadata": {},
          "output_type": "execute_result"
        }
      ],
      "source": [
        "D = np.array([1,2,3,4,5,6])\n",
        "D.reshape(2, 3)"
      ]
    },
    {
      "cell_type": "markdown",
      "metadata": {
        "id": "By9zMuMyYMNA"
      },
      "source": [
        "### **Ejercicio 9 - Producto punto (dot product):**\n",
        "Dados dos arrays A = [1, 2, 3] y B = [4, 5, 6], calcula su producto punto"
      ]
    },
    {
      "cell_type": "code",
      "execution_count": 99,
      "metadata": {
        "id": "Vj-94PgAhpmk"
      },
      "outputs": [
        {
          "data": {
            "text/plain": [
              "np.int64(32)"
            ]
          },
          "execution_count": 99,
          "metadata": {},
          "output_type": "execute_result"
        }
      ],
      "source": [
        "A = np.array([1,2,3])\n",
        "B = np.array([4,5,6])\n",
        "np.dot(A, B)"
      ]
    },
    {
      "cell_type": "markdown",
      "metadata": {
        "id": "Z0UxB4reh4LU"
      },
      "source": [
        "### **Ejercicio 10 - Reorganizar un array:**\n",
        "Dado el array [1, 2, 3, 4, 5, 6, 7, 8, 9, 10], conviértelo en una matriz (2, 5)."
      ]
    },
    {
      "cell_type": "code",
      "execution_count": 100,
      "metadata": {
        "id": "GkjKd3SLh6Sf"
      },
      "outputs": [
        {
          "data": {
            "text/plain": [
              "array([[ 1,  2,  3,  4,  5],\n",
              "       [ 6,  7,  8,  9, 10]])"
            ]
          },
          "execution_count": 100,
          "metadata": {},
          "output_type": "execute_result"
        }
      ],
      "source": [
        "E = np.array([1,2,3,4,5,6,7,8,9,10])\n",
        "E.reshape(2, 5)"
      ]
    },
    {
      "cell_type": "markdown",
      "metadata": {
        "id": "MpTGrPV5iE1Z"
      },
      "source": [
        "### **Ejercicio extra - Encontrar el *k*-ésimo elemento más pequeño en un array**\n",
        "Dado arr = np.array([9, 3, 6, 2, 1, 7]), encuentra el 3er elemento más pequeño sin ordenar el array completo.\n",
        "\n",
        "**Pista solución 1**: Se puede hacer con un método de Numpy\n",
        "\n",
        "**Pista solución 2**: El código se hace más complicado, pero se puede resolver con ciclos iterativos."
      ]
    },
    {
      "cell_type": "code",
      "execution_count": 101,
      "metadata": {
        "id": "OYaMOW-jiLlX"
      },
      "outputs": [
        {
          "data": {
            "text/plain": [
              "np.int64(3)"
            ]
          },
          "execution_count": 101,
          "metadata": {},
          "output_type": "execute_result"
        }
      ],
      "source": [
        "#con np.partition(arreglo,k) podemos ordenar el arreglo hasta el k elemento\n",
        "arr = np.array([9, 3, 6, 2, 1, 7])\n",
        "np.partition(arr, 2)[2]\n"
      ]
    },
    {
      "cell_type": "markdown",
      "metadata": {
        "id": "Unyrp8HOCtMh"
      },
      "source": [
        "## **Ejercicios aplicados**"
      ]
    },
    {
      "cell_type": "markdown",
      "metadata": {
        "id": "K1CPCb12GeCz"
      },
      "source": [
        "### **Ejercicio: Cálculo de ROI (Retorno de Inversión)**\n",
        "Dadas las inversiones ([1000, 1500, 2000]) y sus retornos ([1200, 1650, 1800]), calcula el ROI porcentual para cada caso.\n",
        "\n",
        "*(Fórmula: ROI = (retorno - inversión) / inversión * 100)*"
      ]
    },
    {
      "cell_type": "code",
      "execution_count": 102,
      "metadata": {
        "id": "6Eo-aN8bCwg1"
      },
      "outputs": [
        {
          "data": {
            "text/plain": [
              "array([ 20.,  10., -10.])"
            ]
          },
          "execution_count": 102,
          "metadata": {},
          "output_type": "execute_result"
        }
      ],
      "source": [
        "# Solucion del ROIROIROIROIORIORI\n",
        "inversiones = np.array([1000, 1500, 2000])\n",
        "retorno = np.array([1200, 1650, 1800])\n",
        "ROI = (retorno - inversiones) / inversiones * 100\n",
        "ROI"
      ]
    },
    {
      "cell_type": "markdown",
      "metadata": {
        "id": "3CfyZVv4GksC"
      },
      "source": [
        "### **Ejercicio: Normalización de Datos**\n",
        "Tienes un dataset de precios de productos (en USD): [250, 320, 150, 500, 210]. Normaliza los valores al rango [0, 1] para compararlos en una escala común.\n",
        "\n",
        "**Formulita de la normalización**: (x - min) / (max - min): Para una escala valores entre 0 y 1."
      ]
    },
    {
      "cell_type": "code",
      "execution_count": 103,
      "metadata": {
        "id": "afTic4_JGxAy"
      },
      "outputs": [
        {
          "data": {
            "text/plain": [
              "array([0.28571429, 0.48571429, 0.        , 1.        , 0.17142857])"
            ]
          },
          "execution_count": 103,
          "metadata": {},
          "output_type": "execute_result"
        }
      ],
      "source": [
        "X = np.array([250, 320, 150, 500, 210])\n",
        "(X - X.min() )/ (X.max() - X.min())"
      ]
    },
    {
      "cell_type": "markdown",
      "metadata": {
        "id": "Px7Pdn7xHBAR"
      },
      "source": [
        "### **Ejercicio: Filtrado de Datos**\n",
        "En un array de ventas diarias ([1200, 0, 750, 2400, 0, 1800]), reemplaza los ceros (días sin ventas) por el promedio de los días con ventas."
      ]
    },
    {
      "cell_type": "code",
      "execution_count": 104,
      "metadata": {
        "id": "rqwubxX-HFBX"
      },
      "outputs": [
        {
          "data": {
            "text/plain": [
              "array([1200, 1025,  750, 2400, 1025, 1800])"
            ]
          },
          "execution_count": 104,
          "metadata": {},
          "output_type": "execute_result"
        }
      ],
      "source": [
        "#Primero obtenemos el promedio de las ventas\n",
        "# y luego sustituimos los ceros \n",
        "ventas = np.array([1200,0,750,2400,0,1800])\n",
        "prom = np.mean(ventas)\n",
        "ventas[ventas == 0] = prom\n",
        "ventas"
      ]
    },
    {
      "cell_type": "markdown",
      "metadata": {
        "id": "dKK2wBEEdqzt"
      },
      "source": [
        "### **Ejercicio - Análisis de Presión Arterial**\n",
        "Tenemos un dataset de mediciones de presión arterial sistólica (mmHg) de 10 pacientes:\n",
        "[120, 135, 140, 118, 150, 130, 160, 125, 142, 128].\n",
        "\n",
        "Calculen:\n",
        "- Media y desviación estándar.\n",
        "- Identifiquen valores fuera del rango normal (90–140 mmHg)."
      ]
    },
    {
      "cell_type": "code",
      "execution_count": 105,
      "metadata": {
        "id": "RkYj4KJud0uu"
      },
      "outputs": [
        {
          "name": "stdout",
          "output_type": "stream",
          "text": [
            "La media es 132.5 y su desviación estandar es 12.69\n",
            "Los siguientes valores son anormales [150 160 142]\n"
          ]
        }
      ],
      "source": [
        "PA = np.array([120,135,140,118,150,130,160,125,142,128])\n",
        "media = np.median(PA)\n",
        "desv = np.std(PA)\n",
        "print(\"La media es {} y su desviación estandar es {:.2f}\".format(media,desv))\n",
        "#Usamos {:.2f} para que nos de solo dos decimales\n",
        "#Ahora para filtrar los valores mayores a 140 y menores a 90\n",
        "anormal = PA[(PA > 140) | (PA < 90)]\n",
        "print(\"Los siguientes valores son anormales {}\".format(anormal))\n"
      ]
    },
    {
      "cell_type": "markdown",
      "metadata": {
        "id": "ltzE201veNyz"
      },
      "source": [
        "### **Ejercicio - Cálculo del PIB per Cápita**\n",
        "Dados el PIB (en millones de USD) [500, 320, 700, 450] y la población (en millones) [10, 8, 12, 9] de 4 países, calculen el PIB per cápita y determinen el país con el mayor valor."
      ]
    },
    {
      "cell_type": "code",
      "execution_count": 106,
      "metadata": {
        "id": "TMl-OWMpeOcP"
      },
      "outputs": [
        {
          "name": "stdout",
          "output_type": "stream",
          "text": [
            "El PIB per capita mas alto es 58.33\n"
          ]
        }
      ],
      "source": [
        "PIB = np.array([500, 320, 700, 450])\n",
        "Pob = np.array([10, 8, 12, 9])\n",
        "PIB_Percapita = PIB / Pob\n",
        "print(\"El PIB per capita mas alto es {:.2f}\".format(PIB_Percapita.max()))\n"
      ]
    },
    {
      "cell_type": "markdown",
      "metadata": {
        "id": "7AP-dS9HgAO9"
      },
      "source": [
        "### **Ejercicio - Sistema de Drops (Probabilidades)**\n",
        "En un videojuego RPG, los enemigos al ser vencidos, pueden dropear (soltar):\n",
        "- 0 = Nada (50%).\n",
        "- 1 = Poción (30%).\n",
        "- 2 = Arma (15%).\n",
        "- 3 = Artefacto (5%).\n",
        "\n",
        "Simula 100 drops y cuenta cuántos artefactos se obtuvieron.\n",
        "\n",
        "*Ejemplo de salida*:\n",
        "\n",
        "```\n",
        "Artifactos obtenidos: 3\n",
        "```\n",
        "\n"
      ]
    },
    {
      "cell_type": "code",
      "execution_count": 107,
      "metadata": {
        "id": "828OGOwUgPBV"
      },
      "outputs": [
        {
          "name": "stdout",
          "output_type": "stream",
          "text": [
            "En la simulación de 100 drops, obtenemos 94 artículos\n"
          ]
        }
      ],
      "source": [
        "drop = np.array([0, 1, 2, 3])\n",
        "prob = np.array([0.5, 0.3, 0.15, 0.05])\n",
        "#Podemos crear un array con 100 elementos de la lista drop con probabilidades prob usando random.choice\n",
        "prueba_drops = np.random.choice(drop, size = 100, p = prob)\n",
        "\n",
        "print(\"En la simulación de 100 drops, obtenemos {} artículos\".format(prueba_drops.sum()))\n",
        "\n"
      ]
    }
  ],
  "metadata": {
    "colab": {
      "provenance": []
    },
    "kernelspec": {
      "display_name": "venv",
      "language": "python",
      "name": "python3"
    },
    "language_info": {
      "codemirror_mode": {
        "name": "ipython",
        "version": 3
      },
      "file_extension": ".py",
      "mimetype": "text/x-python",
      "name": "python",
      "nbconvert_exporter": "python",
      "pygments_lexer": "ipython3",
      "version": "3.12.3"
    }
  },
  "nbformat": 4,
  "nbformat_minor": 0
}
